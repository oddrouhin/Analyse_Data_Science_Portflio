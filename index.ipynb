{
  "cells": [
    {
      "cell_type": "raw",
      "metadata": {},
      "source": [
        "---\n",
        "title: \"Analyse Data Science Portfolio\"\n",
        "format:\n",
        "  html:\n",
        "    css: Documents/Templates/black_phoenix_professional.css\n",
        "    toc: true\n",
        "    number-sections: true\n",
        "---"
      ],
      "id": "fdca0153"
    },
    {
      "cell_type": "markdown",
      "metadata": {},
      "source": [
        "```{html}\n",
        "<header>\n",
        "  <img src=\"Images/Black_Phoenix_Data_Analysis_Logo.jpg\" alt=\"Logo Black Phoenix\">\n",
        "  <h1>Analyse Data Science Portfolio</h1>\n",
        "  <h2>Black Phoenix Data Analysis</h2>\n",
        "</header>\n",
        "\n",
        "```\n",
        "\n",
        "\n",
        "\n",
        "# Page d'Accueil\n",
        "\n",
        "Bienvenue dans le projet **Analyse Data Science Portfolio** de Black Phoenix."
      ],
      "id": "4c0bff31"
    },
    {
      "cell_type": "markdown",
      "metadata": {},
      "source": [
        "---\n"
      ],
      "id": "65dd1fce"
    }
  ],
  "metadata": {
    "kernelspec": {
      "display_name": "Python 3",
      "language": "python",
      "name": "python3"
    }
  },
  "nbformat": 4,
  "nbformat_minor": 5
}